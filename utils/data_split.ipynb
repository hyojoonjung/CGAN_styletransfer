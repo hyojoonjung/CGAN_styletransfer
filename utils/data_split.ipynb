{
 "cells": [
  {
   "cell_type": "code",
   "execution_count": 6,
   "metadata": {},
   "outputs": [
    {
     "data": {
      "text/plain": [
       "55"
      ]
     },
     "execution_count": 6,
     "metadata": {},
     "output_type": "execute_result"
    }
   ],
   "source": [
    "import pandas as pd\n",
    "df = pd.read_csv('../data/essay/valid_1.csv',index_col=False)\n",
    "len(df)"
   ]
  },
  {
   "cell_type": "code",
   "execution_count": 7,
   "metadata": {},
   "outputs": [
    {
     "name": "stdout",
     "output_type": "stream",
     "text": [
      "49\n",
      "6\n"
     ]
    },
    {
     "name": "stderr",
     "output_type": "stream",
     "text": [
      "/tmp/ipykernel_2764401/3653295836.py:14: FutureWarning: The frame.append method is deprecated and will be removed from pandas in a future version. Use pandas.concat instead.\n",
      "  train = train.append(df[df['ID'] == author], ignore_index=True)\n",
      "/tmp/ipykernel_2764401/3653295836.py:16: FutureWarning: The frame.append method is deprecated and will be removed from pandas in a future version. Use pandas.concat instead.\n",
      "  valid = valid.append(df[df['ID'] == author], ignore_index=True)\n"
     ]
    }
   ],
   "source": [
    "import random\n",
    "import pandas as pd\n",
    "\n",
    "authors = df['ID'].unique().tolist()\n",
    "num_authors = len(authors)\n",
    "split_num = int(num_authors*0.1)\n",
    "random_authors = random.sample(authors, split_num)\n",
    "train_authors = [x for x in authors if x not in random_authors]\n",
    "train = []\n",
    "train = pd.DataFrame(train)\n",
    "valid = []\n",
    "valid = pd.DataFrame(valid)\n",
    "for author in train_authors:\n",
    "    train = train.append(df[df['ID'] == author], ignore_index=True)\n",
    "for author in random_authors:\n",
    "    valid = valid.append(df[df['ID'] == author], ignore_index=True)\n",
    "\n",
    "print(len(train))\n",
    "print(len(valid))\n",
    "\n",
    "train.to_csv('train.csv', index=False)\n",
    "valid.to_csv('valid_1.csv', index=False)"
   ]
  },
  {
   "cell_type": "code",
   "execution_count": 2,
   "metadata": {},
   "outputs": [
    {
     "data": {
      "text/html": [
       "<div>\n",
       "<style scoped>\n",
       "    .dataframe tbody tr th:only-of-type {\n",
       "        vertical-align: middle;\n",
       "    }\n",
       "\n",
       "    .dataframe tbody tr th {\n",
       "        vertical-align: top;\n",
       "    }\n",
       "\n",
       "    .dataframe thead th {\n",
       "        text-align: right;\n",
       "    }\n",
       "</style>\n",
       "<table border=\"1\" class=\"dataframe\">\n",
       "  <thead>\n",
       "    <tr style=\"text-align: right;\">\n",
       "      <th></th>\n",
       "      <th>ID</th>\n",
       "      <th>TEXT</th>\n",
       "      <th>OPN</th>\n",
       "      <th>CON</th>\n",
       "      <th>EXT</th>\n",
       "      <th>AGR</th>\n",
       "      <th>NEU</th>\n",
       "    </tr>\n",
       "  </thead>\n",
       "  <tbody>\n",
       "    <tr>\n",
       "      <th>0</th>\n",
       "      <td>1997_504851.txt</td>\n",
       "      <td>They go against \"having fun. \" The one thing I...</td>\n",
       "      <td>y</td>\n",
       "      <td>n</td>\n",
       "      <td>n</td>\n",
       "      <td>y</td>\n",
       "      <td>y</td>\n",
       "    </tr>\n",
       "    <tr>\n",
       "      <th>1</th>\n",
       "      <td>1997_504851.txt</td>\n",
       "      <td>But when I moved here, the homework got a litt...</td>\n",
       "      <td>y</td>\n",
       "      <td>n</td>\n",
       "      <td>n</td>\n",
       "      <td>y</td>\n",
       "      <td>y</td>\n",
       "    </tr>\n",
       "    <tr>\n",
       "      <th>2</th>\n",
       "      <td>1997_504851.txt</td>\n",
       "      <td>I haven't been there in so long. But when I mo...</td>\n",
       "      <td>y</td>\n",
       "      <td>n</td>\n",
       "      <td>n</td>\n",
       "      <td>y</td>\n",
       "      <td>y</td>\n",
       "    </tr>\n",
       "    <tr>\n",
       "      <th>3</th>\n",
       "      <td>1997_504851.txt</td>\n",
       "      <td>My school is difficult already, but somehow I ...</td>\n",
       "      <td>y</td>\n",
       "      <td>n</td>\n",
       "      <td>n</td>\n",
       "      <td>y</td>\n",
       "      <td>y</td>\n",
       "    </tr>\n",
       "    <tr>\n",
       "      <th>4</th>\n",
       "      <td>1997_504851.txt</td>\n",
       "      <td>I mean in the sense of meeting people or going...</td>\n",
       "      <td>y</td>\n",
       "      <td>n</td>\n",
       "      <td>n</td>\n",
       "      <td>y</td>\n",
       "      <td>y</td>\n",
       "    </tr>\n",
       "  </tbody>\n",
       "</table>\n",
       "</div>"
      ],
      "text/plain": [
       "                ID                                               TEXT OPN CON  \\\n",
       "0  1997_504851.txt  They go against \"having fun. \" The one thing I...   y   n   \n",
       "1  1997_504851.txt  But when I moved here, the homework got a litt...   y   n   \n",
       "2  1997_504851.txt  I haven't been there in so long. But when I mo...   y   n   \n",
       "3  1997_504851.txt  My school is difficult already, but somehow I ...   y   n   \n",
       "4  1997_504851.txt  I mean in the sense of meeting people or going...   y   n   \n",
       "\n",
       "  EXT AGR NEU  \n",
       "0   n   y   y  \n",
       "1   n   y   y  \n",
       "2   n   y   y  \n",
       "3   n   y   y  \n",
       "4   n   y   y  "
      ]
     },
     "execution_count": 2,
     "metadata": {},
     "output_type": "execute_result"
    }
   ],
   "source": [
    "df.head()"
   ]
  },
  {
   "cell_type": "code",
   "execution_count": 4,
   "metadata": {},
   "outputs": [
    {
     "data": {
      "text/plain": [
       "54"
      ]
     },
     "execution_count": 4,
     "metadata": {},
     "output_type": "execute_result"
    }
   ],
   "source": [
    "ID = df['ID'].nunique()\n",
    "ID"
   ]
  }
 ],
 "metadata": {
  "interpreter": {
   "hash": "0f49525e30c8144c12637611bcce6dac1f8b09f286f02e5a5c895df8e2b3c737"
  },
  "kernelspec": {
   "display_name": "Python 3.8.13 ('pytorch')",
   "language": "python",
   "name": "python3"
  },
  "language_info": {
   "codemirror_mode": {
    "name": "ipython",
    "version": 3
   },
   "file_extension": ".py",
   "mimetype": "text/x-python",
   "name": "python",
   "nbconvert_exporter": "python",
   "pygments_lexer": "ipython3",
   "version": "3.8.13"
  },
  "orig_nbformat": 4,
  "vscode": {
   "interpreter": {
    "hash": "0f49525e30c8144c12637611bcce6dac1f8b09f286f02e5a5c895df8e2b3c737"
   }
  }
 },
 "nbformat": 4,
 "nbformat_minor": 2
}
