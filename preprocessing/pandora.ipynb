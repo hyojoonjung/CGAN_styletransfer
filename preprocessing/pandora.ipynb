{
 "cells": [
  {
   "cell_type": "code",
   "execution_count": 3,
   "metadata": {},
   "outputs": [
    {
     "name": "stderr",
     "output_type": "stream",
     "text": [
      "/tmp/ipykernel_694464/3825757887.py:2: DtypeWarning: Columns (0,2) have mixed types. Specify dtype option on import or set low_memory=False.\n",
      "  df = pd.read_csv('/home/hjjung/ailab/VAE/typed_comments.csv', index_col=False)\n"
     ]
    }
   ],
   "source": [
    "import pandas as pd\n",
    "df = pd.read_csv('/home/hjjung/ailab/VAE/typed_comments.csv', index_col=False)\n"
   ]
  },
  {
   "cell_type": "code",
   "execution_count": null,
   "metadata": {},
   "outputs": [],
   "source": [
    "print(df.columns)\n"
   ]
  },
  {
   "cell_type": "code",
   "execution_count": 5,
   "metadata": {},
   "outputs": [
    {
     "name": "stdout",
     "output_type": "stream",
     "text": [
      "0    Those stats come from the test. [Echoing the c...\n",
      "1    That's great to hear! I hope you know that, de...\n",
      "2    I can totally agree on reticence! With respect...\n",
      "3    I took it several times. I'm typed as TYPE_MEN...\n",
      "4    Gawd it's like we don't even need drugs to be ...\n",
      "Name: comment, dtype: object\n"
     ]
    }
   ],
   "source": [
    "print(df['comment'].head())\n"
   ]
  },
  {
   "cell_type": "code",
   "execution_count": 6,
   "metadata": {},
   "outputs": [
    {
     "name": "stdout",
     "output_type": "stream",
     "text": [
      "            author                                            comment\n",
      "0  MetricExpansion  Those stats come from the test. [Echoing the c...\n",
      "1  MetricExpansion  That's great to hear! I hope you know that, de...\n",
      "2  MetricExpansion  I can totally agree on reticence! With respect...\n",
      "3  MetricExpansion  I took it several times. I'm typed as TYPE_MEN...\n",
      "4  MetricExpansion  Gawd it's like we don't even need drugs to be ...\n"
     ]
    }
   ],
   "source": [
    "new_df = df[['author', 'comment']]\n",
    "print(new_df.head())"
   ]
  },
  {
   "cell_type": "code",
   "execution_count": 9,
   "metadata": {},
   "outputs": [
    {
     "data": {
      "text/html": [
       "<div>\n",
       "<style scoped>\n",
       "    .dataframe tbody tr th:only-of-type {\n",
       "        vertical-align: middle;\n",
       "    }\n",
       "\n",
       "    .dataframe tbody tr th {\n",
       "        vertical-align: top;\n",
       "    }\n",
       "\n",
       "    .dataframe thead th {\n",
       "        text-align: right;\n",
       "    }\n",
       "</style>\n",
       "<table border=\"1\" class=\"dataframe\">\n",
       "  <thead>\n",
       "    <tr style=\"text-align: right;\">\n",
       "      <th></th>\n",
       "      <th>author</th>\n",
       "      <th>body</th>\n",
       "    </tr>\n",
       "  </thead>\n",
       "  <tbody>\n",
       "    <tr>\n",
       "      <th>0</th>\n",
       "      <td>MetricExpansion</td>\n",
       "      <td>Those stats come from the test. [Echoing the c...</td>\n",
       "    </tr>\n",
       "    <tr>\n",
       "      <th>1</th>\n",
       "      <td>MetricExpansion</td>\n",
       "      <td>That's great to hear! I hope you know that, de...</td>\n",
       "    </tr>\n",
       "    <tr>\n",
       "      <th>2</th>\n",
       "      <td>MetricExpansion</td>\n",
       "      <td>I can totally agree on reticence! With respect...</td>\n",
       "    </tr>\n",
       "    <tr>\n",
       "      <th>3</th>\n",
       "      <td>MetricExpansion</td>\n",
       "      <td>I took it several times. I'm typed as TYPE_MEN...</td>\n",
       "    </tr>\n",
       "    <tr>\n",
       "      <th>4</th>\n",
       "      <td>MetricExpansion</td>\n",
       "      <td>Gawd it's like we don't even need drugs to be ...</td>\n",
       "    </tr>\n",
       "  </tbody>\n",
       "</table>\n",
       "</div>"
      ],
      "text/plain": [
       "            author                                               body\n",
       "0  MetricExpansion  Those stats come from the test. [Echoing the c...\n",
       "1  MetricExpansion  That's great to hear! I hope you know that, de...\n",
       "2  MetricExpansion  I can totally agree on reticence! With respect...\n",
       "3  MetricExpansion  I took it several times. I'm typed as TYPE_MEN...\n",
       "4  MetricExpansion  Gawd it's like we don't even need drugs to be ..."
      ]
     },
     "execution_count": 9,
     "metadata": {},
     "output_type": "execute_result"
    }
   ],
   "source": [
    "new_df = new_df.rename(columns={'comment':'body'})\n",
    "new_df.head()"
   ]
  },
  {
   "cell_type": "code",
   "execution_count": 11,
   "metadata": {},
   "outputs": [],
   "source": [
    "new_df.to_csv('all_comments.csv', index=False)\n"
   ]
  },
  {
   "cell_type": "code",
   "execution_count": 12,
   "metadata": {},
   "outputs": [],
   "source": [
    "import pandas as pd\n",
    "\n",
    "df = pd.read_csv('/home/hjjung/ailab/VAE/data/pandora/all_comments.csv', index_col=False)\n",
    "author_df = pd.read_csv('/home/hjjung/ailab/VAE/data/pandora/author_OCEAN.csv', index_col=False)\n",
    "\n"
   ]
  },
  {
   "cell_type": "code",
   "execution_count": 17,
   "metadata": {},
   "outputs": [],
   "source": [
    "author_df = pd.read_csv('/home/hjjung/ailab/VAE/data/pandora/raw/author_profiles.csv')"
   ]
  },
  {
   "cell_type": "code",
   "execution_count": 18,
   "metadata": {},
   "outputs": [
    {
     "data": {
      "text/plain": [
       "10295"
      ]
     },
     "execution_count": 18,
     "metadata": {},
     "output_type": "execute_result"
    }
   ],
   "source": [
    "len(author_df)"
   ]
  },
  {
   "cell_type": "code",
   "execution_count": 10,
   "metadata": {},
   "outputs": [
    {
     "name": "stderr",
     "output_type": "stream",
     "text": [
      "/tmp/ipykernel_767293/2539144243.py:5: FutureWarning: The frame.append method is deprecated and will be removed from pandas in a future version. Use pandas.concat instead.\n",
      "  new_df = new_df.append(author_df[author_df['author']==author], ignore_index = True)\n"
     ]
    },
    {
     "data": {
      "text/plain": [
       "1611"
      ]
     },
     "execution_count": 10,
     "metadata": {},
     "output_type": "execute_result"
    }
   ],
   "source": [
    "authors = author_df['author'].unique().tolist()\n",
    "new_df = []\n",
    "new_df = pd.DataFrame(new_df)\n",
    "for author in authors:\n",
    "    new_df = new_df.append(author_df[author_df['author']==author], ignore_index = True)\n",
    "len(new_df)"
   ]
  },
  {
   "cell_type": "code",
   "execution_count": 11,
   "metadata": {},
   "outputs": [
    {
     "name": "stderr",
     "output_type": "stream",
     "text": [
      "  0%|          | 2/1611 [00:03<45:36,  1.70s/it]/tmp/ipykernel_767293/144634289.py:13: FutureWarning: The frame.append method is deprecated and will be removed from pandas in a future version. Use pandas.concat instead.\n",
      "  new_author_df = new_author_df.append(author_df[author_df['author']==author], ignore_index=True)\n",
      "/tmp/ipykernel_767293/144634289.py:14: FutureWarning: The frame.append method is deprecated and will be removed from pandas in a future version. Use pandas.concat instead.\n",
      "  new_comment_df = new_comment_df.append(df[df['author']==author], ignore_index=True)\n",
      "100%|██████████| 1611/1611 [48:25<00:00,  1.80s/it]\n"
     ]
    },
    {
     "name": "stdout",
     "output_type": "stream",
     "text": [
      "236\n",
      "830783\n"
     ]
    }
   ],
   "source": [
    "from tqdm import tqdm\n",
    "authors = author_df['author'].unique().tolist()\n",
    "num_author = 0\n",
    "num_text = 0\n",
    "new_author_df = []\n",
    "new_author_df = pd.DataFrame(new_author_df)\n",
    "new_comment_df = []\n",
    "new_comment_df = pd.DataFrame(new_comment_df)\n",
    "for author in tqdm(authors):\n",
    "    index = list(df[df['author'] == author].index)\n",
    "    num_text += len(index)\n",
    "    if (df['author'] == author).any():\n",
    "        new_author_df = new_author_df.append(author_df[author_df['author']==author], ignore_index=True)\n",
    "        new_comment_df = new_comment_df.append(df[df['author']==author], ignore_index=True)\n",
    "        num_author += 1\n",
    "\n",
    "new_author_df.to_csv('new_author_OCEAN.csv', index=False)\n",
    "new_comment_df.to_csv('new_comment.csv', index=False)\n",
    "print(num_author)\n",
    "print(num_text)"
   ]
  },
  {
   "cell_type": "code",
   "execution_count": 2,
   "metadata": {},
   "outputs": [
    {
     "name": "stderr",
     "output_type": "stream",
     "text": [
      "100%|██████████| 1611/1611 [48:28<00:00,  1.81s/it]"
     ]
    },
    {
     "name": "stdout",
     "output_type": "stream",
     "text": [
      "236\n",
      "830783\n"
     ]
    },
    {
     "name": "stderr",
     "output_type": "stream",
     "text": [
      "\n"
     ]
    }
   ],
   "source": [
    "from tqdm import tqdm\n",
    "authors = author_df['author'].unique().tolist()\n",
    "num_author = 0\n",
    "num_text = 0\n",
    "for author in tqdm(authors):\n",
    "    index = list(df[df['author'] == author].index)\n",
    "    num_text += len(index)\n",
    "    if (df['author'] == author).any():\n",
    "        num_author += 1\n",
    "\n",
    "print(num_author)\n",
    "print(num_text)"
   ]
  },
  {
   "cell_type": "code",
   "execution_count": null,
   "metadata": {},
   "outputs": [],
   "source": [
    "author_df = pd.read_csv('/home/hjjung/ailab/VAE/data/pandora/author_OCEAN.csv', index_col=False)\n",
    "author_df['author'].unique().tolist()"
   ]
  },
  {
   "cell_type": "code",
   "execution_count": 3,
   "metadata": {},
   "outputs": [
    {
     "data": {
      "text/plain": [
       "8357"
      ]
     },
     "execution_count": 3,
     "metadata": {},
     "output_type": "execute_result"
    }
   ],
   "source": [
    "df = pd.read_csv('/home/hjjung/ailab/VAE/data/pandora/raw/all_comments.csv', index_col=False)\n",
    "df['author'].nunique()"
   ]
  },
  {
   "cell_type": "code",
   "execution_count": 2,
   "metadata": {},
   "outputs": [
    {
     "name": "stdout",
     "output_type": "stream",
     "text": [
      "39270\n"
     ]
    }
   ],
   "source": [
    "import pandas as pd\n",
    "\n",
    "# df = pd.read_csv('/home/hjjung/ailab/VAE/data/pandora/raw/all_comments.csv', index_col=False)\n",
    "# author_df = pd.read_csv('/home/hjjung/ailab/VAE/data/pandora/author_OCEAN.csv', index_col=False)\n",
    "\n",
    "authors = author_df['author'].unique().tolist()\n",
    "num_text = 0\n",
    "for author in authors:\n",
    "    index = list(df[df['author'] == author].index)\n",
    "    num_text += len(index)\n",
    "\n",
    "print(num_text)"
   ]
  }
 ],
 "metadata": {
  "kernelspec": {
   "display_name": "Python 3.8.13 ('pytorch')",
   "language": "python",
   "name": "python3"
  },
  "language_info": {
   "codemirror_mode": {
    "name": "ipython",
    "version": 3
   },
   "file_extension": ".py",
   "mimetype": "text/x-python",
   "name": "python",
   "nbconvert_exporter": "python",
   "pygments_lexer": "ipython3",
   "version": "3.8.13"
  },
  "orig_nbformat": 4,
  "vscode": {
   "interpreter": {
    "hash": "0f49525e30c8144c12637611bcce6dac1f8b09f286f02e5a5c895df8e2b3c737"
   }
  }
 },
 "nbformat": 4,
 "nbformat_minor": 2
}
