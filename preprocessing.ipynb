{
 "cells": [
  {
   "cell_type": "code",
   "execution_count": 1,
   "metadata": {},
   "outputs": [],
   "source": [
    "import pandas as pd\n",
    "from sklearn.model_selection import train_test_split\n",
    "\n",
    "# 데이터 불러오기\n",
    "data = pd.read_csv('data/pandora.csv')\n",
    "\n",
    "# 작가별로 그룹화\n",
    "authors = data['author'].unique()\n",
    "\n",
    "# 작가를 train, test로 분리\n",
    "train_authors, test_authors = train_test_split(authors, test_size=0.2, random_state=1123)\n",
    "\n",
    "# train 작가 중에서 다시 train, val로 분리\n",
    "train_authors, val_authors = train_test_split(train_authors, test_size=0.2, random_state=1123)\n",
    "\n",
    "# 각 작가 그룹별 데이터셋 생성\n",
    "train_data = data[data['author'].isin(train_authors)]\n",
    "val_data = data[data['author'].isin(val_authors)]\n",
    "test_data = data[data['author'].isin(test_authors)]\n",
    "\n",
    "train_data.to_csv('data/pandora/train.csv', index=False)\n",
    "val_data.to_csv('data/pandora/val.csv', index=False)\n",
    "test_data.to_csv('data/pandora/test.csv', index=False)"
   ]
  }
 ],
 "metadata": {
  "kernelspec": {
   "display_name": "Python 3",
   "language": "python",
   "name": "python3"
  },
  "language_info": {
   "codemirror_mode": {
    "name": "ipython",
    "version": 3
   },
   "file_extension": ".py",
   "mimetype": "text/x-python",
   "name": "python",
   "nbconvert_exporter": "python",
   "pygments_lexer": "ipython3",
   "version": "3.11.4"
  },
  "orig_nbformat": 4
 },
 "nbformat": 4,
 "nbformat_minor": 2
}
